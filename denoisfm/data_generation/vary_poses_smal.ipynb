{
 "cells": [
  {
   "cell_type": "code",
   "execution_count": 3,
   "metadata": {},
   "outputs": [],
   "source": [
    "import pickle as pkl\n",
    "import trimesh\n",
    "\n",
    "# download the SMPL code from https://smpl.is.tue.mpg.de/\n",
    "# put it to denoisfm/data_generation/smpl_webuser\n",
    "from denoisfm.data_generation.smpl_webuser.serialization import load_model\n",
    "\n",
    "scene = trimesh.Scene()\n",
    "\n",
    "# download the SMAL model from https://smal.is.tue.mpg.de/\n",
    "# put it to denoisfm/data_generation/smal_online\n",
    "model_path = 'denoisfm/data_generation/smal_online/smal_CVPR2017.pkl'\n",
    "model = load_model(model_path)"
   ]
  },
  {
   "cell_type": "markdown",
   "metadata": {},
   "source": [
    "### Template"
   ]
  },
  {
   "cell_type": "code",
   "execution_count": 4,
   "metadata": {},
   "outputs": [],
   "source": [
    "import denoisfm.utils.preprocessing_util as preprocessing_util\n",
    "import denoisfm.utils.fmap_util as fmap_util\n",
    "import denoisfm.utils.remesh_util as remesh_util\n",
    "import torch\n",
    "import numpy as np\n",
    "\n",
    "# Template is the mean model\n",
    "# model.r are the mesh vertices, and model.f are the mesh faces.\n",
    "verts_orig = torch.tensor(model.r, dtype=torch.float32)\n",
    "faces_orig = torch.tensor(model.f.astype(np.int64), dtype=torch.long)\n",
    "\n",
    "# normalize the face area to 1\n",
    "verts_orig = preprocessing_util.normalize_face_area(verts_orig, faces_orig)\n",
    "   \n",
    "# remesh to break SMAL connectivity   \n",
    "verts_r, faces_r = remesh_util.remesh_simplify_iso(\n",
    "    verts=verts_orig,\n",
    "    faces=faces_orig,\n",
    "    simplify_strength=1, # no simplification, keep 100% of the faces\n",
    "    )\n",
    "\n",
    "# save the remeshed template\n",
    "template_remeshed = trimesh.Trimesh(\n",
    "    vertices=verts_r,\n",
    "    faces=faces_r\n",
    "    )\n",
    "template_remeshed.export('data/template_animal/template.off')\n",
    "\n",
    "# correspondences to SMAL shapes\n",
    "corr_r = fmap_util.nn_query(\n",
    "    verts_r,\n",
    "    verts_orig, \n",
    "    )\n",
    "np.savetxt(\n",
    "    'data/template_animal/corr.txt',\n",
    "    corr_r.numpy() + 1, fmt='%d'\n",
    "    )"
   ]
  },
  {
   "cell_type": "code",
   "execution_count": null,
   "metadata": {},
   "outputs": [],
   "source": [
    "# view the remeshed template\n",
    "scene.geometry.clear()\n",
    "scene.add_geometry(trimesh.creation.axis(origin_size=0.1))\n",
    "\n",
    "scene.add_geometry(template_remeshed)\n",
    "\n",
    "scene.set_camera()\n",
    "scene.show()"
   ]
  },
  {
   "cell_type": "markdown",
   "metadata": {},
   "source": [
    "### Generate other poses for each train shape"
   ]
  },
  {
   "cell_type": "code",
   "execution_count": 6,
   "metadata": {},
   "outputs": [],
   "source": [
    "# base directory where you store the data\n",
    "base_dir = '/lustre/mlnvme/data/s94zalek_hpc-shape_matching/data_denoisfm'"
   ]
  },
  {
   "cell_type": "code",
   "execution_count": 7,
   "metadata": {},
   "outputs": [],
   "source": [
    "train_names = f'{base_dir}/test/SMAL_r/train.txt'\n",
    "\n",
    "# read the train names, e.g. lion_01, horse_02\n",
    "with open(train_names) as f:\n",
    "    train_names = f.readlines()\n",
    "    train_names = [x.strip() for x in train_names]\n",
    "    \n",
    "print('Names of the training shapes:', train_names)"
   ]
  },
  {
   "cell_type": "code",
   "execution_count": 8,
   "metadata": {},
   "outputs": [],
   "source": [
    "# read name map from train names to the names of fitted parameters\n",
    "# e.g. 00028740_ferrari horse_01\n",
    "name_map = f'{base_dir}/test/SMAL_r/name_map.txt'\n",
    "\n",
    "with open(name_map) as f:\n",
    "    name_map = f.readlines()\n",
    "    name_map = [x.strip() for x in name_map]\n",
    "    \n",
    "    name_map = dict([x.split()[::-1] for x in name_map])\n",
    "    \n",
    "print('Name map:', name_map)"
   ]
  },
  {
   "cell_type": "markdown",
   "metadata": {},
   "source": [
    "## Generate 64k training animals"
   ]
  },
  {
   "cell_type": "code",
   "execution_count": null,
   "metadata": {},
   "outputs": [],
   "source": [
    "import torch\n",
    "import numpy as np\n",
    "from tqdm import tqdm\n",
    "import os\n",
    "\n",
    "\n",
    "shape_list = []\n",
    "\n",
    "iterator = tqdm(train_names)\n",
    "for train_name in iterator:\n",
    "    \n",
    "    iterator.set_description(train_name)\n",
    "\n",
    "    orig_name = name_map[train_name]\n",
    "\n",
    "    orig_path = f'{base_dir}/test/SMAL_fitted/{orig_name}.pkl'\n",
    "    with open(orig_path, 'rb') as orig_path:\n",
    "        shape_data = pkl.load(orig_path, encoding=\"latin1\")\n",
    "        \n",
    "        \n",
    "    for i in range(2000):\n",
    "        \n",
    "        # randomize the shape parameter\n",
    "        model.betas[:] = np.zeros_like(model.betas)\n",
    "        model.betas[:20] = np.array(shape_data['beta']) + 0.05 * np.random.randn(*shape_data['beta'].shape)\n",
    "\n",
    "        # randomize the pose parameter\n",
    "        model.pose[:] = np.array(shape_data['pose']) + 0.2 * np.random.randn(*shape_data['pose'].shape)\n",
    "        model.pose[0:3]=0\n",
    "\n",
    "        model.trans[:] = 0.\n",
    "\n",
    "        shape_list.append(torch.tensor(model.r.copy(), dtype=torch.float32))\n",
    "       \n",
    "shape_list = torch.stack(shape_list)\n",
    "\n",
    "os.makedirs(f'{base_dir}/train/SMAL_new', exist_ok=True)\n",
    "# save the vertices\n",
    "torch.save(\n",
    "    shape_list, \n",
    "    f'{base_dir}/train/SMAL_new/verts.pt'\n",
    ")\n",
    "# save the faces\n",
    "torch.save(\n",
    "    faces_orig, \n",
    "    f'{base_dir}/train/SMAL_new/faces.pt'\n",
    ")\n",
    " "
   ]
  },
  {
   "cell_type": "code",
   "execution_count": null,
   "metadata": {},
   "outputs": [],
   "source": [
    "import torch\n",
    "import numpy as np\n",
    "\n",
    "# read 10 random meshes from the training set and plot them\n",
    "scene.geometry.clear()\n",
    "\n",
    "random_indices = np.random.choice(shape_list.shape[0], 10, replace=False)\n",
    "\n",
    "for i, idx in enumerate(random_indices):\n",
    "    mesh = trimesh.Trimesh(\n",
    "        vertices=shape_list[idx].numpy(),\n",
    "        faces=model.f\n",
    "        )\n",
    "    \n",
    "    mesh.vertices += np.array([2*i, 0, 0])\n",
    "    \n",
    "    scene.add_geometry(mesh)\n",
    "    \n",
    "scene.set_camera()\n",
    "scene.show()"
   ]
  }
 ],
 "metadata": {
  "kernelspec": {
   "display_name": "Python 3 (ipykernel)",
   "language": "python",
   "name": "python3"
  }
 },
 "nbformat": 4,
 "nbformat_minor": 2
}
