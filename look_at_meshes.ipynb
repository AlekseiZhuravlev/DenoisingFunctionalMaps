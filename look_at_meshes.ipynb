{
 "cells": [
  {
   "cell_type": "code",
   "execution_count": 1,
   "metadata": {},
   "outputs": [],
   "source": [
    "import trimesh\n",
    "\n",
    "scene = trimesh.Scene()"
   ]
  },
  {
   "cell_type": "code",
   "execution_count": null,
   "metadata": {},
   "outputs": [],
   "source": [
    "import numpy as np\n",
    "\n",
    "# get random idx\n",
    "idx = np.random.randint(0, 50)\n",
    "\n",
    "# clear scene\n",
    "scene.geometry.clear()\n",
    "\n",
    "mesh_new = trimesh.load(\n",
    "    f'/home/s94zalek_hpc/DenoisingFunctionalMaps/data/sign_training_humans/off/{idx:04d}.off',\n",
    "    process=False, validate=False)\n",
    "mesh_new.vertices += np.array([1, 0, 0])\n",
    "\n",
    "mesh_old = trimesh.load(\n",
    "    f'/home/s94zalek_hpc/DenoisingFunctionalMaps/data/sign_training_old/off/{idx:04d}.off',\n",
    "    process=False, validate=False)\n",
    "mesh_old.vertices += np.array([2, 0, 0])\n",
    "\n",
    "# read mesh from /home/s94zalek_hpc/DenoisingFunctionalMaps/data/sign_training_humans_norm_rm\n",
    "mesh_norm_rm = trimesh.load(\n",
    "    f'/home/s94zalek_hpc/DenoisingFunctionalMaps/data/sign_training_humans_norm_rm/off/{idx:04d}.off',\n",
    "    process=False, validate=False)\n",
    "mesh_norm_rm.vertices += np.array([3, 0, 0])\n",
    "\n",
    "# add creation.axis\n",
    "scene.add_geometry(trimesh.creation.axis(axis_length=1))\n",
    "\n",
    "scene.add_geometry(mesh_new)\n",
    "scene.add_geometry(mesh_old)\n",
    "scene.add_geometry(mesh_norm_rm)\n",
    "\n",
    "print(idx)\n",
    "\n",
    "# get number of verts faces\n",
    "print('new mesh:', mesh_new.vertices.shape, mesh_new.faces.shape)\n",
    "print('old mesh:', mesh_old.vertices.shape, mesh_old.faces.shape)\n",
    "print('norm_rm mesh:', mesh_norm_rm.vertices.shape, mesh_norm_rm.faces.shape)\n",
    "\n",
    "# get sum of face areas\n",
    "# print('total mesh area:', mesh_new.area, mesh_old.area, mesh_norm_rm.area)\n",
    "# round to 2 decimal places as string \n",
    "print(f'total mesh area: {mesh_new.area:.2f}, {mesh_old.area:.2f}, {mesh_norm_rm.area:.2f}')\n",
    "\n",
    "\n",
    "scene.show()"
   ]
  },
  {
   "cell_type": "code",
   "execution_count": null,
   "metadata": {},
   "outputs": [],
   "source": []
  }
 ],
 "metadata": {
  "kernelspec": {
   "display_name": "Python 3 (ipykernel)",
   "language": "python",
   "name": "python3"
  }
 },
 "nbformat": 4,
 "nbformat_minor": 2
}
