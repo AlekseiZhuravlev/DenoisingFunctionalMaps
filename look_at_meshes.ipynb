{
 "cells": [
  {
   "cell_type": "code",
   "execution_count": null,
   "metadata": {},
   "outputs": [],
   "source": [
    "import trimesh\n",
    "\n",
    "scene = trimesh.Scene()"
   ]
  },
  {
   "cell_type": "code",
   "execution_count": null,
   "metadata": {},
   "outputs": [],
   "source": [
    "import numpy as np\n",
    "\n",
    "# get random idx\n",
    "idx = np.random.randint(0, 50)\n",
    "\n",
    "# clear scene\n",
    "scene.geometry.clear()\n",
    "\n",
    "mesh_new = trimesh.load(\n",
    "    f'/home/s94zalek_hpc/DenoisingFunctionalMaps/data/sign_training_humans/off/{idx:04d}.off',\n",
    "    process=False, validate=False)\n",
    "mesh_new.vertices += np.array([1, 0, 0])\n",
    "\n",
    "mesh_old = trimesh.load(\n",
    "    f'/home/s94zalek_hpc/DenoisingFunctionalMaps/data/sign_training_old/off/{idx:04d}.off',\n",
    "    process=False, validate=False)\n",
    "mesh_old.vertices += np.array([2, 0, 0])\n",
    "\n",
    "# read mesh from /home/s94zalek_hpc/DenoisingFunctionalMaps/data/sign_training_humans_norm_rm\n",
    "mesh_norm_rm = trimesh.load(\n",
    "    f'/home/s94zalek_hpc/DenoisingFunctionalMaps/data/sign_training_humans_norm_rm/off/{idx:04d}.off',\n",
    "    process=False, validate=False)\n",
    "mesh_norm_rm.vertices += np.array([3, 0, 0])\n",
    "\n",
    "# add creation.axis\n",
    "scene.add_geometry(trimesh.creation.axis(axis_length=1))\n",
    "\n",
    "scene.add_geometry(mesh_new)\n",
    "scene.add_geometry(mesh_old)\n",
    "scene.add_geometry(mesh_norm_rm)\n",
    "\n",
    "print(idx)\n",
    "\n",
    "# get number of verts faces\n",
    "print('new mesh:', mesh_new.vertices.shape, mesh_new.faces.shape)\n",
    "print('old mesh:', mesh_old.vertices.shape, mesh_old.faces.shape)\n",
    "print('norm_rm mesh:', mesh_norm_rm.vertices.shape, mesh_norm_rm.faces.shape)\n",
    "\n",
    "# get sum of face areas\n",
    "# print('total mesh area:', mesh_new.area, mesh_old.area, mesh_norm_rm.area)\n",
    "# round to 2 decimal places as string \n",
    "print(f'total mesh area: {mesh_new.area:.2f}, {mesh_old.area:.2f}, {mesh_norm_rm.area:.2f}')\n",
    "\n",
    "\n",
    "scene.show()"
   ]
  },
  {
   "cell_type": "code",
   "execution_count": null,
   "metadata": {},
   "outputs": [],
   "source": [
    "import torch\n",
    "\n",
    "y_T = torch.load('/lustre/mlnvme/data/s94zalek_hpc-shape_matching/data_denoisfm/train/SURREAL_sign_net_64_norm_rm/y_T.pt',\n",
    "                 weights_only=True)\n",
    "y_1 = torch.load('/lustre/mlnvme/data/s94zalek_hpc-shape_matching/data_denoisfm/train/SURREAL_sign_net_64_norm_rm/y_1.pt',\n",
    "                 weights_only=True)\n",
    "\n"
   ]
  },
  {
   "cell_type": "code",
   "execution_count": null,
   "metadata": {},
   "outputs": [],
   "source": [
    "for i in range(0, 230000, 1000):\n",
    "    print(i, (y_T[i] - y_T[0]).abs().sum().item())\n",
    "\n",
    "# y_T[0], y_T[1]"
   ]
  },
  {
   "cell_type": "code",
   "execution_count": null,
   "metadata": {},
   "outputs": [],
   "source": [
    "(y_T - y_T[0]).abs().sum(), (y_1 - y_1[0]).abs().sum()"
   ]
  },
  {
   "cell_type": "code",
   "execution_count": null,
   "metadata": {},
   "outputs": [],
   "source": [
    "import matplotlib.pyplot as plt\n",
    "\n",
    "# add 3 axes, first: y_T[0], second: y_T[1000], third: difference, ranges -1, 1, scheme bwr\n",
    "plt.figure(figsize=(15, 5))\n",
    "\n",
    "plt.subplot(131)\n",
    "\n",
    "plt.imshow(y_T[0], vmin=-1, vmax=1, cmap='bwr')\n",
    "\n",
    "plt.grid(True)\n",
    "\n",
    "plt.subplot(132)\n",
    "plt.imshow(y_T[1000], vmin=-1, vmax=1, cmap='bwr')\n",
    "# add colorbar\n",
    "\n",
    "plt.grid(True)\n",
    "\n",
    "plt.subplot(133)\n",
    "plt.imshow(y_T[1000] - y_T[0], vmin=-1, vmax=1, cmap='bwr')\n",
    "\n",
    "\n",
    "\n",
    "\n",
    "# add colorbar\n",
    "\n",
    "\n",
    "# plt.imshow(y_T[1000] - y_T[0])\n",
    "\n",
    "# add colorbar\n",
    "# plt.colorbar()\n",
    "\n",
    "plt.grid(True)\n",
    "plt.show()"
   ]
  }
 ],
 "metadata": {
  "kernelspec": {
   "display_name": "Python 3 (ipykernel)",
   "language": "python",
   "name": "python3"
  },
  "language_info": {
   "codemirror_mode": {
    "name": "ipython",
    "version": 3
   },
   "file_extension": ".py",
   "mimetype": "text/x-python",
   "name": "python",
   "nbconvert_exporter": "python",
   "pygments_lexer": "ipython3",
   "version": "3.8.20"
  }
 },
 "nbformat": 4,
 "nbformat_minor": 2
}
